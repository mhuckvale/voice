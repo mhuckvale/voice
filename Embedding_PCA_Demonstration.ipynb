{
  "nbformat": 4,
  "nbformat_minor": 0,
  "metadata": {
    "colab": {
      "provenance": [],
      "gpuType": "T4",
      "mount_file_id": "1RlY4JslWzaFhjOrvhBWQ3n0zf5JgoHNi",
      "authorship_tag": "ABX9TyOTD3fO248GoXFjsqMxZ1Yv",
      "include_colab_link": true
    },
    "kernelspec": {
      "name": "python3",
      "display_name": "Python 3"
    },
    "language_info": {
      "name": "python"
    },
    "accelerator": "GPU"
  },
  "cells": [
    {
      "cell_type": "markdown",
      "metadata": {
        "id": "view-in-github",
        "colab_type": "text"
      },
      "source": [
        "<a href=\"https://colab.research.google.com/github/mhuckvale/voice/blob/main/Embedding_PCA_Demonstration.ipynb\" target=\"_parent\"><img src=\"https://colab.research.google.com/assets/colab-badge.svg\" alt=\"Open In Colab\"/></a>"
      ]
    },
    {
      "cell_type": "markdown",
      "source": [
        "#Demonstrate FreeVC with Principal Components of a Deep-Speaker embedding trained on Globe sample dataset\n"
      ],
      "metadata": {
        "id": "X27TugmoT8JC"
      }
    },
    {
      "cell_type": "markdown",
      "source": [
        "# Configuration"
      ],
      "metadata": {
        "id": "zg4jNYOrQ7Y4"
      }
    },
    {
      "cell_type": "code",
      "source": [
        "%cd /content\n",
        "!pip3 install torch torchaudio torchvision torchtext torchdata webrtcvad\n",
        "!rm -rf FreeVC\n",
        "!git clone https://github.com/OlaWod/FreeVC.git\n",
        "%cd FreeVC\n",
        "!pwd"
      ],
      "metadata": {
        "id": "gdZTkcu0ZcTb"
      },
      "execution_count": null,
      "outputs": []
    },
    {
      "cell_type": "markdown",
      "source": [
        "# 1. Set up Python environment"
      ],
      "metadata": {
        "id": "g77V9Qr9PhM4"
      }
    },
    {
      "cell_type": "code",
      "source": [
        "import math\n",
        "import pandas as pd\n",
        "import numpy as np\n",
        "\n",
        "import ipywidgets as widgets\n",
        "from ipywidgets import HBox, VBox, Layout\n",
        "from IPython.display import Audio\n",
        "%matplotlib inline\n"
      ],
      "metadata": {
        "id": "RmB1BijFUIz7"
      },
      "execution_count": null,
      "outputs": []
    },
    {
      "cell_type": "markdown",
      "source": [
        "# 2. Load the FreeVC model and weights trained on Globe"
      ],
      "metadata": {
        "id": "dCjfiJ3HPlCo"
      }
    },
    {
      "cell_type": "code",
      "source": [
        "!rm -rf voice\n",
        "!git clone https://github.com/mhuckvale/voice.git\n",
        "\n",
        "%cd /content/FreeVC\n",
        "!cp /content/FreeVC/voice/FreeVC/freevc.py .\n",
        "!mkdir checkpoints\n",
        "!cp /content/FreeVC/voice/FreeVC/checkpoints/*.pt* checkpoints\n",
        "\n",
        "# download the voice conversion model\n",
        "!wget -O checkpoints/G_200000.pth https://avatartherapy.co.uk/download/G_200000.pth\n",
        "\n",
        "# download wavlm\n",
        "!wget -O wavlm/WavLM-Large.pt https://avatartherapy.co.uk/download/WavLM-Large.pt\n",
        "\n",
        "# use FreeVC to apply speaker embedding to an audio file\n",
        "import os\n",
        "from types import SimpleNamespace\n",
        "from freevc import FreeVC\n",
        "\n",
        "args = SimpleNamespace()\n",
        "args.hpfile=\"configs/freevc.json\"\n",
        "args.ptfile=\"checkpoints/G_200000.pth\"\n",
        "args.spfile='checkpoints/pretrained_bak_5805000.pt'\n",
        "args.outdir=\"output\"\n",
        "print(args)\n",
        "\n",
        "os.makedirs(args.outdir, exist_ok=True)\n",
        "freevc=FreeVC()\n",
        "freevc.load(args)"
      ],
      "metadata": {
        "id": "ZoJKST9uPD9I"
      },
      "execution_count": null,
      "outputs": []
    },
    {
      "cell_type": "markdown",
      "source": [
        "# 3. Load PCA loadings for speaker embedding"
      ],
      "metadata": {
        "id": "mm4dG4D6QBEY"
      }
    },
    {
      "cell_type": "code",
      "source": [
        "!cp /content/FreeVC/voice/FreeVC/globe-embed256-mean.txt .\n",
        "!cp /content/FreeVC/voice/FreeVC/globe-embed256-pcacomp.txt .\n",
        "\n",
        "\n",
        "# VQ parameter PCA\n",
        "meanembed=np.loadtxt(\"globe-embed256-mean.txt\",dtype=np.float32)\n",
        "components=np.loadtxt(\"globe-embed256-pcacomp.txt\")\n",
        "print(components)\n",
        "\n"
      ],
      "metadata": {
        "id": "u2DTQpIIU4g-"
      },
      "execution_count": null,
      "outputs": []
    },
    {
      "cell_type": "markdown",
      "source": [
        "# 4. Calculate the speaker embedding from principal components"
      ],
      "metadata": {
        "id": "P8Obmni0QFWI"
      }
    },
    {
      "cell_type": "code",
      "source": [
        "# Adjust for weakness of training to realise embeddings well\n",
        "ADJUSTMENT=2.0\n",
        "def calculate_embedding(pca):\n",
        "    #pvalues=np.zeros((256,),dtype=np.float32)\n",
        "    pvalues=np.array(meanembed)\n",
        "    for i in range(8):\n",
        "        for j in range(256):\n",
        "            pvalues[j] = pvalues[j] + ADJUSTMENT * pca[i] * components[i,j]\n",
        "    #print(pvalues)\n",
        "    return(pvalues)"
      ],
      "metadata": {
        "id": "OImBRxF6OWVR"
      },
      "execution_count": null,
      "outputs": []
    },
    {
      "cell_type": "markdown",
      "source": [
        "# 5. Build sliders for first 8 principal components of embedding"
      ],
      "metadata": {
        "id": "M89ReoW-QVti"
      }
    },
    {
      "cell_type": "code",
      "source": [
        "# build sliders\n",
        "pca_sliders=[]\n",
        "for i in range(8):\n",
        "    slider=widgets.FloatSlider(value=0.,min=-1.0,max=1.0,step=0.1,description='PCA'+str(i+1),readout_format='.2f')\n",
        "    pca_sliders.append(slider)\n",
        "\n",
        "# reset button\n",
        "reset_button = widgets.Button(description='Reset')\n",
        "def on_reset(b):\n",
        "    for slider in pca_sliders:\n",
        "        slider.value=0.1\n",
        "        slider.value=0\n",
        "reset_button.on_click(on_reset)\n",
        "\n",
        "# PCA Synthesis button\n",
        "pcago_button = widgets.Button(description='Go PCA')\n",
        "def on_pcago(b):\n",
        "    runconversion()\n",
        "pcago_button.on_click(on_pcago)\n"
      ],
      "metadata": {
        "id": "AusR78YrOnLw"
      },
      "execution_count": null,
      "outputs": []
    },
    {
      "cell_type": "markdown",
      "source": [
        "# 6. Run voice conversion from PCA values"
      ],
      "metadata": {
        "id": "P-4rtzdSQaiR"
      }
    },
    {
      "cell_type": "code",
      "source": [
        "!cp /content/FreeVC/voice/FreeVC/*.wav .\n",
        "\n",
        "# select audio\n",
        "import glob\n",
        "wavlist=glob.glob(\"*.wav\")\n",
        "sndlist=[ s.replace(\".wav\",\"\") for s in wavlist]\n",
        "options=list(zip(sndlist,wavlist))\n",
        "wavselect=widgets.Dropdown(options=options,value='whitelight.wav',description=\"Audio\",disabled=False)\n",
        "\n",
        "from IPython.display import Audio, clear_output\n",
        "output4 = widgets.Output(layout={'border': '1px solid black'})\n",
        "\n",
        "def runconversion():\n",
        "    with output4:\n",
        "        # get  PCA slider values and calculate VQ params\n",
        "        pcavalues=[]\n",
        "        for slider in pca_sliders:\n",
        "            pcavalues.append(slider.value)\n",
        "        # create the embedding from the PCA\n",
        "        speaker_embedding=calculate_embedding(pcavalues)\n",
        "        # perform conversion\n",
        "        freevc.convert(wavselect.value,speaker_embedding,'out.wav')\n",
        "        # replay audio\n",
        "        clear_output(wait=True)\n",
        "        player = Audio('output/out.wav',autoplay=True)\n",
        "        display(player)\n",
        "\n",
        "output4"
      ],
      "metadata": {
        "id": "TjqxXOa2Orxg"
      },
      "execution_count": null,
      "outputs": []
    },
    {
      "cell_type": "markdown",
      "source": [
        "# 7. Create the user interface"
      ],
      "metadata": {
        "id": "GHSsFQnOQiCg"
      }
    },
    {
      "cell_type": "code",
      "source": [
        "# layout\n",
        "title=widgets.HTML(\"<h2>Principal Components</h2>\")\n",
        "box_layout = Layout(display='flex', flex_flow='column', align_items='center',border='solid', width='50%')\n",
        "\n",
        "HBox(children=[\n",
        "    VBox([title,*pca_sliders,wavselect,HBox([reset_button,pcago_button])],layout=box_layout),\n",
        "])\n"
      ],
      "metadata": {
        "id": "tZ0LEkXGOvE4"
      },
      "execution_count": null,
      "outputs": []
    }
  ]
}