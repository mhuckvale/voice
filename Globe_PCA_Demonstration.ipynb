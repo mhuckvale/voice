{
  "nbformat": 4,
  "nbformat_minor": 0,
  "metadata": {
    "colab": {
      "provenance": [],
      "gpuType": "T4",
      "mount_file_id": "1RlY4JslWzaFhjOrvhBWQ3n0zf5JgoHNi",
      "authorship_tag": "ABX9TyMj82U26iJE2QRgpsmDe9hU",
      "include_colab_link": true
    },
    "kernelspec": {
      "name": "python3",
      "display_name": "Python 3"
    },
    "language_info": {
      "name": "python"
    },
    "accelerator": "GPU"
  },
  "cells": [
    {
      "cell_type": "markdown",
      "metadata": {
        "id": "view-in-github",
        "colab_type": "text"
      },
      "source": [
        "<a href=\"https://colab.research.google.com/github/mhuckvale/voice/blob/main/Globe_PCA_Demonstration.ipynb\" target=\"_parent\"><img src=\"https://colab.research.google.com/assets/colab-badge.svg\" alt=\"Open In Colab\"/></a>"
      ]
    },
    {
      "cell_type": "markdown",
      "source": [
        "#Demonstrate FreeVC with Deep-Speaker embedding trained on Globe sample dataset\n"
      ],
      "metadata": {
        "id": "X27TugmoT8JC"
      }
    },
    {
      "cell_type": "markdown",
      "source": [
        "# Configuration"
      ],
      "metadata": {
        "id": "zg4jNYOrQ7Y4"
      }
    },
    {
      "cell_type": "code",
      "source": [
        "%cd /content\n",
        "!pip3 install torch torchaudio torchvision torchtext torchdata webrtcvad\n",
        "!rm -rf FreeVC\n",
        "!git clone https://github.com/OlaWod/FreeVC.git\n",
        "%cd FreeVC\n",
        "!pwd"
      ],
      "metadata": {
        "id": "gdZTkcu0ZcTb"
      },
      "execution_count": null,
      "outputs": []
    },
    {
      "cell_type": "markdown",
      "source": [
        "# 1. Set up Python environment"
      ],
      "metadata": {
        "id": "g77V9Qr9PhM4"
      }
    },
    {
      "cell_type": "code",
      "source": [
        "import math\n",
        "import pandas as pd\n",
        "import numpy as np\n",
        "\n",
        "import ipywidgets as widgets\n",
        "from ipywidgets import HBox, VBox, Layout\n",
        "from IPython.display import Audio\n",
        "%matplotlib inline\n"
      ],
      "metadata": {
        "id": "RmB1BijFUIz7"
      },
      "execution_count": null,
      "outputs": []
    },
    {
      "cell_type": "markdown",
      "source": [
        "# 2. Load the FreeVC model and weights trained on Globe"
      ],
      "metadata": {
        "id": "dCjfiJ3HPlCo"
      }
    },
    {
      "cell_type": "code",
      "source": [
        "%cd /content/FreeVC\n",
        "!cp /content/drive/MyDrive/FreeVC/freevc.py .\n",
        "!mkdir checkpoints\n",
        "!cp /content/drive/MyDrive/FreeVC/checkpoints/*.pt* checkpoints\n",
        "!cp -r /content/drive/MyDrive/FreeVC/wavlm .\n",
        "\n",
        "# use FreeVC to apply speaker embedding to an audio file\n",
        "import os\n",
        "from types import SimpleNamespace\n",
        "from freevc import FreeVC\n",
        "\n",
        "args = SimpleNamespace()\n",
        "args.hpfile=\"configs/freevc.json\"\n",
        "args.ptfile=\"checkpoints/Globe10k_200000.pth\"\n",
        "args.spfile='checkpoints/pretrained_bak_5805000.pt'\n",
        "args.outdir=\"output\"\n",
        "print(args)\n",
        "\n",
        "os.makedirs(args.outdir, exist_ok=True)\n",
        "freevc=FreeVC()\n",
        "freevc.load(args)"
      ],
      "metadata": {
        "id": "ZoJKST9uPD9I"
      },
      "execution_count": null,
      "outputs": []
    },
    {
      "cell_type": "markdown",
      "source": [
        "# 3. Load scaling factors and PCA loadings for VQ parameters"
      ],
      "metadata": {
        "id": "mm4dG4D6QBEY"
      }
    },
    {
      "cell_type": "code",
      "source": [
        "!cp /content/drive/MyDrive/FreeVC/globe-params-scale.txt .\n",
        "!cp /content/drive/MyDrive/FreeVC/globe-params-pca.txt .\n",
        "\n",
        "\n",
        "# VQ parameter scaling\n",
        "norm=pd.read_csv(\"globe-params-scale.txt\")\n",
        "print(norm)\n",
        "# VQ parameter PCA\n",
        "components=pd.read_csv(\"globe-params-pca.txt\")\n",
        "print(components)\n",
        "\n"
      ],
      "metadata": {
        "id": "u2DTQpIIU4g-"
      },
      "execution_count": null,
      "outputs": []
    },
    {
      "cell_type": "markdown",
      "source": [
        "# 4. Calculate the VQ parameters from principal components"
      ],
      "metadata": {
        "id": "P8Obmni0QFWI"
      }
    },
    {
      "cell_type": "code",
      "source": [
        "def calculate_vqparams(pca):\n",
        "    pvalues=[0]*len(norm.index)\n",
        "    for i,value in enumerate(pca):\n",
        "        for j in range(len(norm.index)):\n",
        "            pvalues[j] = pvalues[j] + pca[i] * components.iloc[i,j]\n",
        "    #print(pvalues)\n",
        "    return(pvalues)"
      ],
      "metadata": {
        "id": "OImBRxF6OWVR"
      },
      "execution_count": null,
      "outputs": []
    },
    {
      "cell_type": "markdown",
      "source": [
        "# 5. Set up sliders for each VQ parameter"
      ],
      "metadata": {
        "id": "qPCjaLutQJ0h"
      }
    },
    {
      "cell_type": "code",
      "source": [
        "# Build a set of sliders for each parameter\n",
        "params=[]\n",
        "param_sliders=[]\n",
        "for index, row in norm.iterrows():\n",
        "    name=row['PARAMETER']\n",
        "    params.append(name)\n",
        "    mean=row['SHIFT']\n",
        "    sd=row['SCALE']\n",
        "    param_sliders.append(widgets.FloatSlider(value=mean,min=mean-3*sd,max=mean+3*sd,step=sd/10,description=name+':',readout_format='.2f'))"
      ],
      "metadata": {
        "id": "t6nWNniWOaMI"
      },
      "execution_count": null,
      "outputs": []
    },
    {
      "cell_type": "markdown",
      "source": [
        "# 6. Function to update VQ parameter sliders given PCA"
      ],
      "metadata": {
        "id": "7NHWTIGFQN5Y"
      }
    },
    {
      "cell_type": "code",
      "source": [
        "def update_params(pca):\n",
        "    pvalues = calculate_vqparams(pca)\n",
        "    for j in range(len(norm.index)):\n",
        "        mean=norm['SHIFT'][j]\n",
        "        sd=norm['SCALE'][j]\n",
        "        param_sliders[j].value=mean+sd*pvalues[j]"
      ],
      "metadata": {
        "id": "T8az2l8HOeOn"
      },
      "execution_count": null,
      "outputs": []
    },
    {
      "cell_type": "markdown",
      "source": [
        "# 7. Use MLP to predict speaker embedding from VQ parameters"
      ],
      "metadata": {
        "id": "ZjaqhXDYQSHr"
      }
    },
    {
      "cell_type": "code",
      "source": [
        "# use trained MLP to convert vq embedding to FreeVC speaker embedding\n",
        "!cp /content/drive/MyDrive/FreeVC/mlp.py .\n",
        "!cp /content/drive/MyDrive/FreeVC/globevqnorm2xvec.mlp .\n",
        "\n",
        "from mlp import MLP\n",
        "mlp=MLP()\n",
        "mlp.load(\"globevqnorm2xvec.mlp\")\n",
        "#\n",
        "def predict_speaker(params):\n",
        "    #print(params)\n",
        "    embedding=mlp.forward(params)\n",
        "    #print(embedding)\n",
        "    return(embedding)\n",
        "\n"
      ],
      "metadata": {
        "id": "x6m4JHIGOiRw"
      },
      "execution_count": null,
      "outputs": []
    },
    {
      "cell_type": "markdown",
      "source": [
        "# 8. Build sliders for first 6 principal components of VQ params"
      ],
      "metadata": {
        "id": "M89ReoW-QVti"
      }
    },
    {
      "cell_type": "code",
      "source": [
        "# function to respond to change in value of slider\n",
        "def value_change(change):\n",
        "    slider=change['owner']\n",
        "    pcatext.value=slider.description + '=' + str(change['new'])\n",
        "    values=[]\n",
        "    for slider in pca_sliders:\n",
        "        values.append(slider.value)\n",
        "    update_params(values)\n",
        "\n",
        "# build sliders\n",
        "pca_sliders=[]\n",
        "for i in range(6):\n",
        "    slider=widgets.FloatSlider(value=0.,min=-5.0,max=5.0,step=0.5,description='PCA'+str(i+1),readout_format='.2f')\n",
        "    slider.observe(value_change,names='value')\n",
        "    pca_sliders.append(slider)\n",
        "pcatext=widgets.Text(value='',placeholder='',description='Status:',disabled=False)\n",
        "\n",
        "# reset button\n",
        "reset_button = widgets.Button(description='Reset')\n",
        "def on_reset(b):\n",
        "    for slider in pca_sliders:\n",
        "        slider.value=0.1\n",
        "        slider.value=0\n",
        "reset_button.on_click(on_reset)\n",
        "\n",
        "# PCA Synthesis button\n",
        "pcago_button = widgets.Button(description='Go PCA')\n",
        "def on_pcago(b):\n",
        "    runconversion(0)\n",
        "pcago_button.on_click(on_pcago)\n",
        "\n",
        "# VQ Synthesis button\n",
        "vqgo_button = widgets.Button(description='Go VQ')\n",
        "def on_vqgo(b):\n",
        "    runconversion(1)\n",
        "vqgo_button.on_click(on_vqgo)"
      ],
      "metadata": {
        "id": "AusR78YrOnLw"
      },
      "execution_count": null,
      "outputs": []
    },
    {
      "cell_type": "markdown",
      "source": [
        "# 9. Run voice conversion from VQ or PCA values"
      ],
      "metadata": {
        "id": "P-4rtzdSQaiR"
      }
    },
    {
      "cell_type": "code",
      "source": [
        "!cp /content/drive/MyDrive/FreeVC/*.wav .\n",
        "\n",
        "# select audio\n",
        "import glob\n",
        "wavlist=glob.glob(\"*.wav\")\n",
        "sndlist=[ s.replace(\".wav\",\"\") for s in wavlist]\n",
        "options=list(zip(sndlist,wavlist))\n",
        "wavselect=widgets.Dropdown(options=options,value='whitelight.wav',description=\"Audio\",disabled=False)\n",
        "\n",
        "from IPython.display import Audio, clear_output\n",
        "output4 = widgets.Output(layout={'border': '1px solid black'})\n",
        "\n",
        "def runconversion(isvq=0):\n",
        "    with output4:\n",
        "        if isvq:\n",
        "            # get VQ params directly from sliders\n",
        "            vqparams=[]\n",
        "            for j,slider in enumerate(param_sliders):\n",
        "                mean=norm['SHIFT'][j]\n",
        "                sd=norm['SCALE'][j]\n",
        "                val=(slider.value-mean)/sd\n",
        "                vqparams.append(val)\n",
        "        else:\n",
        "            # get  PCA slider values and calculate VQ params\n",
        "            pcavalues=[]\n",
        "            for slider in pca_sliders:\n",
        "                pcavalues.append(slider.value)\n",
        "            # create the VQ parameters from the PCA\n",
        "            pcatext.value=\"calculate vq params\"\n",
        "            vqparams=calculate_vqparams(pcavalues)\n",
        "        #print(vqparams)\n",
        "        # calculate the speaker embedding using the MLP model\n",
        "        pcatext.value=\"calculate speaker embedding\"\n",
        "        speaker_embedding=predict_speaker(vqparams)\n",
        "        # perform conversion\n",
        "        pcatext.value=\"voice conversion started\"\n",
        "        freevc.convert(wavselect.value,speaker_embedding,'out.wav')\n",
        "        # replay audio\n",
        "        pcatext.value=\"replaying\"\n",
        "        clear_output(wait=True)\n",
        "        player = Audio('output/out.wav',autoplay=True)\n",
        "        display(player)\n",
        "\n",
        "output4"
      ],
      "metadata": {
        "id": "TjqxXOa2Orxg"
      },
      "execution_count": null,
      "outputs": []
    },
    {
      "cell_type": "markdown",
      "source": [
        "# 10. Create the user interface"
      ],
      "metadata": {
        "id": "GHSsFQnOQiCg"
      }
    },
    {
      "cell_type": "code",
      "source": [
        "# layout\n",
        "title1=widgets.HTML(\"<h2>Raw Voice Parameters</h2>\")\n",
        "title2=widgets.HTML(\"<h2>Principal Components</h2>\")\n",
        "box_layout = Layout(display='flex', flex_flow='column', align_items='center',border='solid', width='50%')\n",
        "\n",
        "HBox(children=[\n",
        "    VBox([title2,*pca_sliders,wavselect,HBox([reset_button,pcago_button])],layout=box_layout),\n",
        "    VBox([title1,*param_sliders,HBox([reset_button,vqgo_button])],layout=box_layout)\n",
        "])\n"
      ],
      "metadata": {
        "id": "tZ0LEkXGOvE4"
      },
      "execution_count": null,
      "outputs": []
    }
  ]
}